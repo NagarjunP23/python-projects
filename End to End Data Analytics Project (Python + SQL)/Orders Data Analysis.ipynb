{
 "cells": [
  {
   "cell_type": "code",
   "execution_count": null,
   "id": "9c41a2f2-0a0e-41c5-87ce-7f5e207bbd98",
   "metadata": {},
   "outputs": [],
   "source": [
    "#Install required libraries \n",
    "!pip install kaggle\n",
    "\n",
    "#Import Libraries\n",
    "\n",
    "import pandas as pd\n",
    "import kaggle\n",
    "import zipfile"
   ]
  },
  {
   "cell_type": "code",
   "execution_count": null,
   "id": "bba0d0c9-3c06-4561-b7f1-30bd070a2325",
   "metadata": {},
   "outputs": [],
   "source": [
    "# Get the dataset from kaggle\n",
    "\n",
    "!kaggle datasets download ankitbansal06/retail-orders -f orders.csv"
   ]
  },
  {
   "cell_type": "code",
   "execution_count": null,
   "id": "99c9450a-f382-4de1-9d56-d00b1e3e5348",
   "metadata": {},
   "outputs": [],
   "source": [
    "zip_ref = zipfile.ZipFile('orders.csv.zip')\n",
    "zip_ref.extractall() # Extract the files from zip folder\n",
    "zip_ref.close()"
   ]
  },
  {
   "cell_type": "code",
   "execution_count": null,
   "id": "a06e8f71-b445-48b5-8731-5fc12e9d2e0a",
   "metadata": {},
   "outputs": [],
   "source": [
    "#Load the data into Pandas\n",
    "\n",
    "df = pd.read_csv('orders.csv', na_values = ['Not Available','unknown'])\n",
    "df.head(20)"
   ]
  },
  {
   "cell_type": "code",
   "execution_count": null,
   "id": "6872117c-aac0-460c-89dc-a2f3cfc4b5aa",
   "metadata": {},
   "outputs": [],
   "source": [
    "# Explore and clean the data \n",
    "\n",
    "df['Ship Mode'].unique() # Gives the unique values from the mentioned column"
   ]
  },
  {
   "cell_type": "code",
   "execution_count": null,
   "id": "8ec2145e-19ab-4f07-9844-449613468335",
   "metadata": {},
   "outputs": [],
   "source": [
    "# Convert the col names to lower case\n",
    "df.columns = df.columns.str.lower()\n",
    "\n",
    "# Replace Space with _ \n",
    "df.columns = df.columns.str.replace(' ','_')\n",
    "\n",
    "df.columns"
   ]
  },
  {
   "cell_type": "code",
   "execution_count": null,
   "id": "e0ba7a9b-574e-419a-8900-164110078351",
   "metadata": {},
   "outputs": [],
   "source": [
    "#derive new columns discount , sale price and profit\n",
    "\n",
    "df['discount'] = df['list_price'] * df['discount_percent'] *.01\n",
    "df['sale_price'] = df['list_price'] - df['discount']\n",
    "df['profit'] = df['sale_price'] - df['cost_price']\n",
    "\n",
    "df"
   ]
  },
  {
   "cell_type": "code",
   "execution_count": null,
   "id": "24b0cf3d-3cfe-4bbb-a733-b9783927cd06",
   "metadata": {},
   "outputs": [],
   "source": [
    "#convert order date from object data type to datetime\n",
    "\n",
    "df['order_date'] = pd.to_datetime(df['order_date'],format=\"%Y-%m-%d\")"
   ]
  },
  {
   "cell_type": "code",
   "execution_count": null,
   "id": "c8a3fd2a-c850-4e32-bcef-93c7efb49fea",
   "metadata": {},
   "outputs": [],
   "source": [
    "#drop cost price, list price and discount percent columns\n",
    "\n",
    "df.drop(columns=['list_price','cost_price','discount_percent'],inplace=True)"
   ]
  },
  {
   "cell_type": "code",
   "execution_count": null,
   "id": "225a1841-ac55-4eac-96fa-040ceb60266b",
   "metadata": {},
   "outputs": [],
   "source": [
    "#load the data into sql server using replace option\n",
    "\n",
    "import sqlalchemy as sql\n",
    "engine = sql.create_engine('mssql:// DB Connection URL ')\n",
    "conn=engine.connect()"
   ]
  },
  {
   "cell_type": "code",
   "execution_count": null,
   "id": "9a84c3ba-f68b-4ec9-bea3-716435c05344",
   "metadata": {},
   "outputs": [],
   "source": [
    "#load the data into sql server using append option\n",
    "\n",
    "df.to_sql('df_orders', con=conn , index=False, if_exists = 'append')"
   ]
  }
 ],
 "metadata": {
  "kernelspec": {
   "display_name": "Python 3 (ipykernel)",
   "language": "python",
   "name": "python3"
  },
  "language_info": {
   "codemirror_mode": {
    "name": "ipython",
    "version": 3
   },
   "file_extension": ".py",
   "mimetype": "text/x-python",
   "name": "python",
   "nbconvert_exporter": "python",
   "pygments_lexer": "ipython3",
   "version": "3.11.7"
  }
 },
 "nbformat": 4,
 "nbformat_minor": 5
}
